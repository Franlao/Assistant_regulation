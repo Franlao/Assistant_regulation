{
 "cells": [
  {
   "cell_type": "raw",
   "metadata": {
    "vscode": {
     "languageId": "raw"
    }
   },
   "source": [
    "# Test des Services Modulaires et Orchestrateur\n",
    "\n",
    "Ce notebook permet de tester individuellement chaque service et l'orchestrateur modulaire.\n",
    "\n",
    "## Services testés :\n",
    "- RetrievalService\n",
    "- ValidationService\n",
    "- GenerationService\n",
    "- MemoryService\n",
    "- ContextBuilderService\n",
    "- RerankerService\n",
    "- ModularOrchestrator\n"
   ]
  },
  {
   "cell_type": "code",
   "execution_count": 2,
   "metadata": {},
   "outputs": [
    {
     "name": "stdout",
     "output_type": "stream",
     "text": [
      "Project root: c:\\Projet_AI\\Assistant_regulation\n",
      "Current working directory: c:\\Projet_AI\\Assistant_regulation\\notebook\n"
     ]
    }
   ],
   "source": [
    "# Configuration initiale\n",
    "import sys\n",
    "from pathlib import Path\n",
    "\n",
    "# Ajouter le répertoire racine au path pour les imports\n",
    "project_root = Path.cwd().parent\n",
    "sys.path.insert(0, str(project_root))\n",
    "\n",
    "print(f\"Project root: {project_root}\")\n",
    "print(f\"Current working directory: {Path.cwd()}\")\n"
   ]
  },
  {
   "cell_type": "code",
   "execution_count": null,
   "metadata": {},
   "outputs": [],
   "source": [
    "# Imports des services\n",
    "from assistant_regulation.planning.services import (\n",
    "    RetrievalService,\n",
    "    ValidationService,\n",
    "    GenerationService,\n",
    "    MemoryService,\n",
    "    ContextBuilderService,\n",
    "    RerankerService,\n",
    ")\n",
    "from assistant_regulation.planning.Orchestrator.modular_orchestrator import ModularOrchestrator\n",
    "\n",
    "print(\"✅ Tous les imports réussis !\")"
   ]
  },
  {
   "cell_type": "raw",
   "metadata": {
    "vscode": {
     "languageId": "raw"
    }
   },
   "source": [
    "## 1. Test du RetrievalService\n"
   ]
  },
  {
   "cell_type": "code",
   "execution_count": null,
   "metadata": {},
   "outputs": [],
   "source": [
    "# Test du RetrievalService\n",
    "print(\"=== Test RetrievalService ===\")\n",
    "\n",
    "try:\n",
    "    retrieval_service = RetrievalService()\n",
    "    print(\"✅ RetrievalService initialisé\")\n",
    "    \n",
    "    # Test de recherche\n",
    "    query = \"réglementation R107 bus PMR\"\n",
    "    results = retrieval_service.retrieve(\n",
    "        query,\n",
    "        use_images=True,\n",
    "        use_tables=True,\n",
    "        top_k=3\n",
    "    )\n",
    "    \n",
    "    print(f\"✅ Recherche effectuée pour: '{query}'\")\n",
    "    print(f\"Résultats texte: {len(results.get('text', []))}\")\n",
    "    print(f\"Résultats images: {len(results.get('images', []))}\")\n",
    "    print(f\"Résultats tableaux: {len(results.get('tables', []))}\")\n",
    "    text_chunks = results.get('text')\n",
    "    images_chunks = results.get('images')\n",
    "    tables_chunks = results.get('tables')\n",
    "    print(text_chunks)\n",
    "    print(images_chunks)\n",
    "    print(tables_chunks)\n",
    "    # Afficher un échantillon\n",
    "    if results.get('text'):\n",
    "        print(\"\\n📄 Premier résultat texte:\")\n",
    "        first_text = results['text'][0]\n",
    "        content = first_text.get('content', first_text.get('documents', 'Pas de contenu'))\n",
    "        print(content[:200] + \"...\" if len(content) > 200 else content)\n",
    "        \n",
    "except Exception as e:\n",
    "    print(f\"❌ Erreur RetrievalService: {e}\")\n"
   ]
  },
  {
   "cell_type": "code",
   "execution_count": null,
   "metadata": {},
   "outputs": [],
   "source": [
    "# Test du RerankerService (nécessite des dépendances optionnelles)\n",
    "print(\"=== Test RerankerService ===\")\n",
    "try:\n",
    "    # Test avec mock si les dépendances ne sont pas installées\n",
    "    reranker_service = RerankerService(model_name=\"jina-reranker-m0\")\n",
    "    \n",
    "    print(\"✅ RerankerService initialisé avec BGE\")\n",
    "    \n",
    "    # Test de rerank\n",
    "    test_chunks = [\n",
    "        {\"content\": \"La météo est belle aujourd'hui.\"},\n",
    "        {\"content\": \"Réglementation R107 pour les véhicules de transport.\"},\n",
    "        {\"content\": \"Les bus PMR doivent être accessibles.\"}\n",
    "    ]\n",
    "    \n",
    "    query = \"réglementation bus PMR\"\n",
    "    reranked = reranker_service.rerank_chunks(query, test_chunks, top_k=2)\n",
    "    \n",
    "    print(f\"✅ Rerank effectué pour: '{query}'\")\n",
    "    print(f\"Chunks avant: {len(test_chunks)}\")\n",
    "    print(f\"Chunks après: {len(reranked)}\")\n",
    "    \n",
    "    print(\"\\n🏆 Chunks reclassés:\")\n",
    "    for i, chunk in enumerate(reranked):\n",
    "        print(f\"  {i+1}. {chunk['content']}\")\n",
    "            \n",
    "        \n",
    "except Exception as e:\n",
    "    print(f\"❌ Erreur RerankerService: {e}\")\n"
   ]
  },
  {
   "cell_type": "code",
   "execution_count": null,
   "metadata": {},
   "outputs": [],
   "source": [
    "print(\"=== Test Retrieval + Reranking ===\")\n",
    "\n",
    "query = \"Quelle sont les dimensions des mannequins passager règlementaire permettant de vérifier le passage dans le véhicule\"\n",
    "\n",
    "# 1) Récupération des chunks\n",
    "retrieval_service = RetrievalService()\n",
    "results = retrieval_service.retrieve(\n",
    "    query,\n",
    "    use_images=True,   # on se concentre sur le texte\n",
    "    use_tables=False,\n",
    "    top_k=30            # nombre de chunks bruts\n",
    ")\n",
    "\n",
    "text_chunks = results.get(\"text\", [])\n",
    "print(f\"Chunks récupérés : {len(text_chunks)}\")\n",
    "\n",
    "# 2) Reranking des chunks\n",
    "reranker = RerankerService(model_name=\"jina-reranker-m0\")        # clé JINA_API_KEY nécessaire\n",
    "best_chunks = reranker.rerank_chunks(\n",
    "    query,\n",
    "    text_chunks,\n",
    "    top_k=5                         # nombre de chunks réordonnés à garder\n",
    ")\n",
    "# 3) Affichage d'un aperçu\n",
    "for i, chunk in enumerate(best_chunks, 1):\n",
    "    content = chunk.get(\"content\") or chunk.get(\"documents\") or \"—\"\n",
    "    print(f\"\\n#{i} — score original : {chunk.get('score', 'N/A')}\")\n",
    "    print(content[:250] + (\"…\" if len(content) > 250 else \"\"))"
   ]
  },
  {
   "cell_type": "code",
   "execution_count": null,
   "metadata": {},
   "outputs": [],
   "source": [
    "# Test du RerankerService (nécessite des dépendances optionnelles)\n",
    "print(\"=== Test RerankerService ===\")\n",
    "try:\n",
    "    # Test avec mock si les dépendances ne sont pas installées\n",
    "    reranker_service = RerankerService(model_name=\"jina-reranker-m0\")\n",
    "    \n",
    "    print(\"✅ RerankerService initialisé avec BGE\")\n",
    "    \n",
    "    # Test de rerank\n",
    "    test_chunks = [\n",
    "        {\"content\": \"La météo est belle aujourd'hui.\"},\n",
    "        {\"content\": \"Réglementation R107 pour les véhicules de transport.\"},\n",
    "        {\"content\": \"Les bus PMR doivent être accessibles.\"}\n",
    "    ]\n",
    "    \n",
    "    query = \"réglementation bus PMR\"\n",
    "    reranked = reranker_service.rerank_chunks(query, test_chunks, top_k=2)\n",
    "    \n",
    "    print(f\"✅ Rerank effectué pour: '{query}'\")\n",
    "    print(f\"Chunks avant: {len(test_chunks)}\")\n",
    "    print(f\"Chunks après: {len(reranked)}\")\n",
    "    \n",
    "    print(\"\\n🏆 Chunks reclassés:\")\n",
    "    for i, chunk in enumerate(reranked):\n",
    "        print(f\"  {i+1}. {chunk['content']}\")\n",
    "            \n",
    "        \n",
    "except Exception as e:\n",
    "    print(f\"❌ Erreur RerankerService: {e}\")\n"
   ]
  },
  {
   "cell_type": "raw",
   "metadata": {
    "vscode": {
     "languageId": "raw"
    }
   },
   "source": [
    "## 2. Test du GenerationService\n"
   ]
  },
  {
   "cell_type": "code",
   "execution_count": 6,
   "metadata": {},
   "outputs": [
    {
     "name": "stdout",
     "output_type": "stream",
     "text": [
      "=== Test GenerationService ===\n",
      "✅ GenerationService initialisé (Ollama)\n",
      "✅ Réponse générée pour: 'Qu'est-ce qu'un bus PMR ?'\n",
      "📝 Réponse: Bonjour !\n",
      "\n",
      "Un bus PMR est un véhicule conçu pour les personnes handicapées, en particulier celles qui souffrent de troubles du mouvement ou de la coordination.\n",
      "\n",
      "PMR signifie \"Personnes Handicapées Mobilité Réduite\". Les bus PMR sont équipés de sièges adaptés et de systèmes d'accessibilité spéciaux p...\n"
     ]
    }
   ],
   "source": [
    "# Test du GenerationService\n",
    "print(\"=== Test GenerationService ===\")\n",
    "\n",
    "try:\n",
    "    generation_service = GenerationService(llm_provider=\"ollama\", model_name=\"llama3.2\")\n",
    "    print(\"✅ GenerationService initialisé (Ollama)\")\n",
    "    \n",
    "    # Test génération simple\n",
    "    query = \"Qu'est-ce qu'un bus PMR ?\"\n",
    "    answer = generation_service.generate_answer(\n",
    "        query=query,\n",
    "        context=\"\",\n",
    "        conversation_context=\"\"\n",
    "    )\n",
    "    \n",
    "    print(f\"✅ Réponse générée pour: '{query}'\")\n",
    "    print(f\"📝 Réponse: {answer[:300]}{'...' if len(answer) > 300 else ''}\")\n",
    "    \n",
    "except Exception as e:\n",
    "    print(f\"❌ Erreur GenerationService: {e}\")\n"
   ]
  },
  {
   "cell_type": "raw",
   "metadata": {
    "vscode": {
     "languageId": "raw"
    }
   },
   "source": [
    "## 3. Test du ValidationService\n"
   ]
  },
  {
   "cell_type": "code",
   "execution_count": null,
   "metadata": {},
   "outputs": [
    {
     "name": "stdout",
     "output_type": "stream",
     "text": [
      "=== Test ValidationService ===\n",
      "✅ ValidationService initialisé\n",
      "✅ Validation effectuée pour: 'réglementation R107 bus'\n",
      "Chunks texte avant: 2\n",
      "Chunks texte après: 1\n",
      "\n",
      "📄 Chunks validés:\n",
      "  1. La réglementation R107 concerne les véhicules de catégorie M2 et M3....\n"
     ]
    }
   ],
   "source": [
    "# Test du ValidationService\n",
    "print(\"=== Test ValidationService ===\")\n",
    "\n",
    "try:\n",
    "    validation_service = ValidationService(llm_provider=\"mistral\", model_name=\"mistral-large-latest\")\n",
    "    print(\"✅ ValidationService initialisé\")\n",
    "    \n",
    "    # Créer des chunks de test\n",
    "    test_chunks = {\n",
    "        \"text\": [\n",
    "            {\n",
    "                \"content\": \"La réglementation R107 concerne les véhicules de catégorie M2 et M3.\",\n",
    "                \"metadata\": {\"document_id\": \"R107\", \"page_no\": 1}\n",
    "            },\n",
    "            {\n",
    "                \"content\": \"Le temps qu'il fait aujourd'hui est ensoleillé.\",\n",
    "                \"metadata\": {\"document_id\": \"weather\", \"page_no\": 1}\n",
    "            }\n",
    "        ],\n",
    "        \"images\": [],\n",
    "        \"tables\": []\n",
    "    }\n",
    "    \n",
    "    query = \"réglementation R107 bus\"\n",
    "    validated_chunks = validation_service.validate_chunks(query, test_chunks)\n",
    "    \n",
    "    print(f\"✅ Validation effectuée pour: '{query}'\")\n",
    "    print(f\"Chunks texte avant: {len(test_chunks['text'])}\")\n",
    "    print(f\"Chunks texte après: {len(validated_chunks['text'])}\")\n",
    "    \n",
    "    if validated_chunks['text']:\n",
    "        print(\"\\n📄 Chunks validés:\")\n",
    "        for i, chunk in enumerate(validated_chunks['text']):\n",
    "            content = chunk.get('content', '')[:100]\n",
    "            print(f\"  {i+1}. {content}...\")\n",
    "    \n",
    "except Exception as e:\n",
    "    print(f\"❌ Erreur ValidationService: {e}\")\n"
   ]
  },
  {
   "cell_type": "raw",
   "metadata": {
    "vscode": {
     "languageId": "raw"
    }
   },
   "source": [
    "## 4. Test du MemoryService\n"
   ]
  },
  {
   "cell_type": "code",
   "execution_count": null,
   "metadata": {},
   "outputs": [],
   "source": [
    "# Test du MemoryService\n",
    "print(\"=== Test MemoryService ===\")\n",
    "\n",
    "try:\n",
    "    # Utiliser le client du generation_service pour la cohérence\n",
    "    memory_service = MemoryService(\n",
    "        session_id=\"test_session\",\n",
    "        llm_client=generation_service.raw_client if 'generation_service' in locals() else None,\n",
    "        model_name=\"llama3.2\"\n",
    "    )\n",
    "    print(\"✅ MemoryService initialisé\")\n",
    "    \n",
    "    # Ajouter des tours de conversation\n",
    "    memory_service.add_turn(\n",
    "        \"Qu'est-ce que la R107 ?\",\n",
    "        \"La R107 est une réglementation automobile concernant les véhicules de transport en commun.\",\n",
    "        metadata={\"sources_count\": 2}\n",
    "    )\n",
    "    \n",
    "    memory_service.add_turn(\n",
    "        \"Quelles sont les exigences PMR ?\",\n",
    "        \"Les exigences PMR incluent l'accessibilité pour les personnes à mobilité réduite.\",\n",
    "        metadata={\"sources_count\": 1}\n",
    "    )\n",
    "    \n",
    "    print(\"✅ Tours de conversation ajoutés\")\n",
    "    \n",
    "    # Récupérer le contexte\n",
    "    context = memory_service.get_context(\"Autres détails sur la R107 ?\")\n",
    "    print(f\"✅ Contexte récupéré ({len(context)} caractères)\")\n",
    "    print(f\"\\n💭 Contexte:\\n{context[:500]}...\" if len(context) > 500 else f\"\\n💭 Contexte:\\n{context}\")\n",
    "    \n",
    "    # Statistiques\n",
    "    stats = memory_service.stats()\n",
    "    print(f\"\\n📊 Stats: {stats}\")\n",
    "    \n",
    "except Exception as e:\n",
    "    print(f\"❌ Erreur MemoryService: {e}\")\n"
   ]
  },
  {
   "cell_type": "raw",
   "metadata": {
    "vscode": {
     "languageId": "raw"
    }
   },
   "source": [
    "## 5. Test du ContextBuilderService\n"
   ]
  },
  {
   "cell_type": "code",
   "execution_count": null,
   "metadata": {},
   "outputs": [],
   "source": [
    "# Test du ContextBuilderService\n",
    "print(\"=== Test ContextBuilderService ===\")\n",
    "\n",
    "try:\n",
    "    context_builder = ContextBuilderService()\n",
    "    print(\"✅ ContextBuilderService initialisé\")\n",
    "    \n",
    "    # Créer des chunks multimodaux de test\n",
    "    test_chunks = {\n",
    "        \"text\": [\n",
    "            {\"content\": \"Réglementation R107: véhicules de catégorie M2 et M3.\"},\n",
    "            {\"documents\": \"Les bus PMR doivent respecter des normes d'accessibilité.\"}\n",
    "        ],\n",
    "        \"tables\": [\n",
    "            {\"content\": \"Tableau des dimensions minimales: Largeur 80cm, Hauteur 190cm\"}\n",
    "        ],\n",
    "        \"images\": [\n",
    "            {\"description\": \"Schéma d'un emplacement PMR dans un bus avec rampe d'accès.\"}\n",
    "        ]\n",
    "    }\n",
    "    \n",
    "    context = context_builder.build_context(test_chunks)\n",
    "    print(f\"✅ Contexte construit ({len(context)} caractères)\")\n",
    "    print(f\"\\n📋 Contexte:\\n{context}\")\n",
    "    \n",
    "except Exception as e:\n",
    "    print(f\"❌ Erreur ContextBuilderService: {e}\")\n"
   ]
  },
  {
   "cell_type": "raw",
   "metadata": {
    "vscode": {
     "languageId": "raw"
    }
   },
   "source": [
    "## 6. Test du RerankerService (optionnel)\n"
   ]
  },
  {
   "cell_type": "code",
   "execution_count": null,
   "metadata": {},
   "outputs": [],
   "source": [
    "\n",
    "import os, textwrap\n",
    "query = \"Organic skincare products for sensitive skin\"\n",
    "documents = [\n",
    "    \"Bio-Hautpflege für empfindliche Haut mit Aloe Vera und Kamille: Erleben Sie die wohltuende Wirkung unserer Bio-Hautpflege, speziell für empfindliche Haut entwickelt. Mit den beruhigenden Eigenschaften von Aloe Vera und Kamille pflegen und schützen unsere Produkte Ihre Haut auf natürliche Weise. Verabschieden Sie sich von Hautirritationen und genießen Sie einen strahlenden Teint.\",\n",
    "    \"Organic skincare for sensitive skin with aloe vera and chamomile: Imagine the soothing embrace of nature with our organic skincare range, crafted specifically for sensitive skin. Infused with the calming properties of aloe vera and chamomile, each product provides gentle nourishment and protection. Say goodbye to irritation and hello to a glowing, healthy complexion.\",\n",
    "    \"New makeup trends focus on bold colors and innovative techniques: Step into the world of cutting-edge beauty with this seasons makeup trends. Bold, vibrant colors and groundbreaking techniques are redefining the art of makeup. From neon eyeliners to holographic highlighters, unleash your creativity and make a statement with every look.\",\n",
    "    \n",
    "]\n",
    "top_k = 3\n",
    "print(\"Testing Jina RerankerService…\")\n",
    "print(f\"Using API key from env: {'JINA_API_KEY' in os.environ}\")\n",
    "reranker = RerankerService()\n",
    "ranked = reranker.rerank(query, documents, top_k=top_k)\n",
    "print(ranked)\n",
    "for i, (doc, score) in enumerate(ranked, start=1):\n",
    "    print(f\"\\nRank #{i} (score={score:.4f}):\\n\")\n",
    "    print(textwrap.shorten(doc, width=120, placeholder=\"…\")) "
   ]
  },
  {
   "cell_type": "raw",
   "metadata": {
    "vscode": {
     "languageId": "raw"
    }
   },
   "source": [
    "## 7. Test de l'Orchestrateur Modulaire Complet\n"
   ]
  },
  {
   "cell_type": "code",
   "execution_count": 3,
   "metadata": {},
   "outputs": [
    {
     "name": "stdout",
     "output_type": "stream",
     "text": [
      "=== Test ModularOrchestrator ===\n",
      "✅ ModularOrchestrator initialisé\n",
      "\n",
      "--- Test 1: Question générale ---\n",
      "Query: Bonjour, comment allez-vous ?\n",
      "Analysis: {'needs_rag': False, 'query_type': 'general', 'confidence': 0.97, 'context_hint': 'Salutation', 'contains_url': False, 'urls': []}\n",
      "Answer: Bonjour ! Je vais très bien, merci. Et vous, comment allez-vous aujourd'hui ? 😊...\n",
      "Sources: 0\n"
     ]
    }
   ],
   "source": [
    "# Test de l'orchestrateur modulaire complet\n",
    "print(\"=== Test ModularOrchestrator ===\")\n",
    "\n",
    "try:\n",
    "    # Initialiser l'orchestrateur\n",
    "    orchestrator = ModularOrchestrator(\n",
    "        llm_provider=\"mistral\",\n",
    "        model_name=\"mistral-medium\",\n",
    "        enable_verification=False  # Désactiver pour accélérer les tests\n",
    "    )\n",
    "    print(\"✅ ModularOrchestrator initialisé\")\n",
    "    \n",
    "    # Test 1: Question générale (pas de RAG)\n",
    "    print(\"\\n--- Test 1: Question générale ---\")\n",
    "    query1 = \"Bonjour, comment allez-vous ?\"\n",
    "    result1 = orchestrator.process_query(\n",
    "        query1,\n",
    "        use_images=False,\n",
    "        use_tables=False,\n",
    "        top_k=3\n",
    "    )\n",
    "    \n",
    "    print(f\"Query: {query1}\")\n",
    "    print(f\"Analysis: {result1['analysis']}\")\n",
    "    print(f\"Answer: {result1['answer'][:200]}...\")\n",
    "    print(f\"Sources: {len(result1['sources'])}\")\n",
    "    \n",
    "except Exception as e:\n",
    "    print(f\"❌ Erreur Test 1: {e}\")\n"
   ]
  },
  {
   "cell_type": "code",
   "execution_count": 4,
   "metadata": {},
   "outputs": [
    {
     "name": "stdout",
     "output_type": "stream",
     "text": [
      "\n",
      "--- Test 2: Question réglementaire ---\n",
      "[{'type': 'structural', 'document': 'docling_core.transforms.chunker.DocMeta', 'regulation': 'UNKNOWN', 'page': 19, 'content': '6. Specifications\\nM1, Vehicles used for the carriage of passengers = PMR ≤ 120. M1, Limit Values (dB(A)).Phase 1 = 72. M1, Limit Values (dB(A)).Phase 2 = 70. M1, Limit Values (dB(A)).Phase 3 = 68. M1, Vehicles used for the carriage of passengers = 120 < PMR ≤ 160. M1, Limit Values (dB(A)).Phase 1 = 73. M1, Limit Values (dB(A)).Phase 2 = 71. M1, Limit Values (dB(A)).Phase 3 = 69. M1, Vehicles used for the carriage of passengers = PMR > 160. M1, Limit Values (dB(A)).Phase 1 = 75. M1, Limit Values (dB(A)).Phase 2 = 73. M1, Limit Values (dB(A)).Phase 3 = 71. M1, Vehicles used for the carriage of passengers = PMR > 200, no. of seats ≤ 4, R-point height < 450mm from the ground. M1, Limit Values (dB(A)).Phase 1 = 75. M1, Limit Values (dB(A)).Phase 2 = 74. M1, Limit Values (dB(A)).Phase 3 = 72. M2, Vehicles used for the carriage of passengers = M ≤ 2.5 t. M2, Limit Values (dB(A)).Phase 1 = 72. M2, Limit Values (dB(A)).Phase 2 = 70. M2, Limit Values (dB(A)).Phase 3 = 69. M2, Vehicles used for the carriage of passengers = 2.5 t < M ≤ 3.5 t. M2, Limit Values (dB(A)).Phase 1 = 74. M2, Limit Values (dB(A)).Phase 2 = 72. M2, Limit Values (dB(A)).Phase 3 = 71. M2, Vehicles used for the carriage of passengers = M > 3.5 t; P n ≤ 135 kW. M2, Limit Values (dB(A)).Phase 1 = 75. M2, Limit Values (dB(A)).Phase 2 = 73. M2, Limit Values (dB(A)).Phase 3 = 72. M2, Vehicles used for the carriage of passengers = M > 3.5 t; P n > 135 kW. M2, Limit Values', 'score': 0.7941296281990528, 'subsections': [], 'rerank_score': 0.7941296281990528}, {'type': 'structural', 'document': 'docling_core.transforms.chunker.DocMeta', 'regulation': 'UNKNOWN', 'page': 20, 'content': '6. Specifications\\n(a) For  vehicles  of  category  N1,  if  the  engine  capacity  does  not  exceed 660  cc  and  the  power-to-mass  ratio  PMR  calculated  by  using  the technically permissible maximum laden mass does not exceed 35.\\n(b) For vehicles of category N1, if the payload is at least 850 kg and the power-to-mass  ratio  calculated  by  using  the  technically  permissible maximum laden mass does not exceed 40.\\n(c) For vehicles of category N1 or M1 derived from N1 if the technically permissible maximum laden mass is greater than 2.5 tons and the Rpoint height is greater than 850 mm from the ground and the powerto-mass ratio calculated by using the technically permissible maximum laden mass does not exceed 40.\\nThe sound emission of the vehicle under typical on-road driving conditions, which are different from those under which the type-approval test set out in Annex 3 and Annex 7 was carried out, shall not deviate from the test result in a significant manner.\\nAny electric sound enhancement system for the purpose of the exterior sound emission shall be operational during the type-approval test.\\n6.2.3.1. The  vehicle  manufacturer  shall  not  intentionally  alter,  adjust,  or  introduce any mechanical, electrical,  thermal,  or  other  device or  procedure  solely  for the purpose of fulfilling the sound emission requirements as specified under this Regulation which is not operational during typical on-road operation.\\n6.2.3.2. The vehicle shall meet the requirements of Annex 7 to this Regulation.\\n6.2.3.3. In applying for type approval, the manufacturer shall provide a statement, in conformity with Appendix 1 of Annex 7, that the vehicle type to be approved complies with the requirements of paragraph 6.2.3. of this Regulation.\\n6.3. Specifications regarding exhaust systems containing fibrous materials\\n6.3.1. Requirements of Annex 4 shall be applied.', 'score': 0.7617866810463009, 'subsections': [], 'rerank_score': 0.7617866810463009}, {'type': 'structural', 'document': 'docling_core.transforms.chunker.DocMeta', 'regulation': 'UNKNOWN', 'page': 17, 'content': 'Model information document pursuant to UN Regulation No. 107 relating to type approval of category M2 or M3 vehicles with regard to their general construction\\n6.2.7., 1 = Maximum inclination (%: normal service/autonomous service) ....................... 6.2.8., 1 = Description of main power circuits .................................................................... 6.2.9., 1 = Circuit diagrams ................................................................................................ 6.2.10., 1 = Protection measures (overview diagrams and drawings).................................... 6.2.11., 1 = Insulation monitoring (if any) ............................................................................ 6.2.12., 1 = Make and type of monitoring device ................................................................. 6.2.13., 1 = Principle of monitoring, description', 'score': 0.7383673414380187, 'subsections': [], 'rerank_score': 0.7383673414380187}, {'type': 'structural', 'document': 'docling_core.transforms.chunker.DocMeta', 'regulation': 'UNKNOWN', 'page': 16, 'content': 'Model information document pursuant to UN Regulation No. 107 relating to type approval of category M2 or M3 vehicles with regard to their general construction\\n6.2. Vehicle\\n6.2.1. Dimensions with locked poles  ..........................................................................\\n6.2.2.\\nSupply   ...............................................................................................................\\n6.2.3.\\nRated voltage of overhead line (V)   ...................................................................\\n6.2.4. Rated line current of vehicle (A) including auxiliary drives, HVAC ................\\n6.2.5.\\nPerformance   ......................................................................................................\\n6.2.6. Maximum velocity (km/h: normal service/autonomous service)   ......................', 'score': 0.7292113538747648, 'subsections': [], 'rerank_score': 0.7292113538747648}, {'type': 'structural', 'document': 'docling_core.transforms.chunker.DocMeta', 'regulation': 'UNKNOWN', 'page': 230, 'content': '1.1.4.2. Evaluation of buses\\nAs an alternative, in the case of buses, trucks having the same braking system type may be used in the evaluation. However, at least one bus shall be included in the testing and the subsequent report.', 'score': 0.6633200884367556, 'subsections': [], 'rerank_score': 0.6633200884367556}, {'type': 'structural', 'document': 'docling_core.transforms.chunker.DocMeta', 'regulation': 'UNKNOWN', 'page': 104, 'content': 'Annex 1 - Communication\\n(according to paragraphs 3.2.6. and 6.22.7.4. of this Regulation): .................................................................................................. 10.4., 2 = Comments concerning AFS (according to paragraphs 3.2.6. and 6.22.7.4. of this Regulation): .................................................................................................. 10.5., 1 = Comments regarding the extent of coverage of the conspicuity marking if it is less than the minimum value of 70 per cent required by paragraphs 6.21.4.1.2. and 6.21.4.2.2. of the Regulation.. 10.5., 2 = Comments regarding the extent of coverage of the conspicuity marking if it is less than the minimum value of 70 per cent required by paragraphs 6.21.4.1.2. and 6.21.4.2.2. of the Regulation.. 10.6., 1 = For vehicles of M and N categories comments regarding the electrical supply conditions (according to paragraphs 3.2.7 and 5.27 of this Regulation)................... 10.6., 2 = For vehicles of M and N categories comments regarding the electrical supply conditions (according to paragraphs 3.2.7 and 5.27 of this Regulation)................... 10.7., 1 = Comments regarding conspicuity', 'score': 0.6563059059425267, 'subsections': [], 'rerank_score': 0.6563059059425267}, {'type': 'structural', 'document': 'docling_core.transforms.chunker.DocMeta', 'regulation': 'UNKNOWN', 'page': 33, 'content': 'Communication\\n.......................................................................... 1.2., 1 = Technically permissible maximum mass (kg): 1 ................................................. 1.3., 1 = Position of centre of gravity of the laden vehicle in the longitudinal, transverse and vertical directions: ....................................................................................... 1.4., 1 = Trolleybuses. 1.4.1., 1 = Special environmental conditions for reliable operation:. 1.4.1.1., 1 = Temperature ....................................................................................................... 1.4.1.2., 1 = External humidity level ...................................................................................... 1.4.1.3., 1 = Atmospheric pressure', 'score': 0.642073471259656, 'subsections': [], 'rerank_score': 0.642073471259656}, {'type': 'structural', 'document': 'docling_core.transforms.chunker.DocMeta', 'regulation': 'UNKNOWN', 'page': 1, 'content': '1. Scope\\n, 1 = This Regulation applies to:. 1.1., 1 = Vehicles of categories L, M, N O, T, R and S 1 with regard to electromagnetic compatibility;. 1.2., 1 = Components and separate technical units intended to be fitted in these vehicles with the limitation given in paragraph 3.2.1. with regard to electromagnetic compatibility.. 1.3., 1 = It covers:. , 1 = related to driver, passenger and other road users\\' protection, related to disturbances, which would cause confusion to the driver or other road users, related to vehicle data bus functionality, related to disturbances, which would affect vehicle statutory data; (b) Requirements regarding the control of unwanted radiated and conducted emissions to protect the intended use of electrical or electronic equipment at own or adjacent vehicles or nearby, and the. , 1 = control of disturbances from accessories that may be retrofitted to the vehicle;. 2., 1 = Definitions. 2.1., 1 = \" Electromagnetic compatibility \" means the ability of a vehicle or component(s) or separate technical unit(s) to function satisfactorily in its electromagnetic environment without introducing intolerable electromagnetic disturbances to anything in that environment.. 2.2., 1 = \" Electromagnetic disturbance \" means any electromagnetic phenomenon which may degrade the performance of a vehicle or component(s) or separate technical unit(s), or of any other device, unit of equipment or system operated in vicinity of a vehicle. An electromagnetic disturbance may be electromagnetic noise, an unwanted signal or a change in the propagation medium itself.. 2.3., 1 = \" Electromagnetic immunity \" means the ability of a vehicle or component(s) or separate technical unit(s) to operate without degradation of performance in the presence of (specified) electromagnetic disturbances which includes wanted radio\\n1 As defined in the Consolidated Resolution on the Construction of Vehicles (R.E.3), document ECE/TRANS/WP.29/78/Rev.6, para. 2.', 'score': 0.6128658982982312, 'subsections': [], 'rerank_score': 0.6128658982982312}, {'type': 'structural', 'document': 'docling_core.transforms.chunker.DocMeta', 'regulation': 'UNKNOWN', 'page': 5, 'content': '5. Specifications\\n5.1.1., General requirements = Any vehicle fitted with an AEBS complying with the definition of paragraph 2.1. above shall, when activated and operated within the prescribed speed ranges, meet the performance requirements:. 5.1.1.1., General requirements = of paragraphs 5.1. and paragraphs 5.3. to 5.6. of this Regulation for all vehicles;. 5.1.1.2., General requirements = of paragraph 5.2.1. of this Regulation for vehicles submitted to approval for vehicle to vehicle scenario;. 5.1.1.3., General requirements = of paragraph 5.2.2. of this Regulation for vehicles submitted to approval for Vehicle to pedestrian scenario.. 5.1.2., General requirements = The effectiveness of AEBS shall not be adversely affected by magnetic or electrical fields. This shall be demonstrated by compliance with the 05 or later series of amendments to UN Regulation No. 10.. 5.1.3., General requirements = Conformity with the safety aspects of electronic control systems shall be shown by meeting the requirements of Annex 3.. 5.1.4., General requirements = Warnings and information. , General requirements = In addition to the collision warnings described in paragraphs 5.2.1.1. and 5.2.2.1., the system shall provide the driver with appropriate warning(s) as below:. 5.1.4.1., General requirements = A failure warning when there is a failure in the AEBS that prevents the requirements of this Regulation of being met. The warning shall be as specified in paragraph 5.5.4.. 5.1.4.1.1., General requirements = There shall not be an appreciable time interval between each AEBS self-check, and subsequently there shall not be a delay in illuminating the warning signal, in the case of an electrically detectable failure.. 5.1.4.1.2., General requirements = Upon detection of any non-electrical failure condition (e.g. sensor blindness or sensor misalignment), the warning signal as defined in paragraph 5.1.4.1. shall be illuminated. 5.1.4.2., General requirements = If the system has not been initialised after a cumulative driving time of 15 seconds above a speed of 10 km/h, information of this status shall be indicated to', 'score': 0.579019587400514, 'subsections': [], 'rerank_score': 0.579019587400514}, {'type': 'structural', 'document': 'docling_core.transforms.chunker.DocMeta', 'regulation': 'UNKNOWN', 'page': 49, 'content': 'Miscellaneous\\n61. Devices to prevent unauthorised use of the vehicle:  ....................................................\\n62. A brief description of the electrical/electronic components (if any):   ...........................\\n63. Table of installation and use of RF transmitters in the vehicle(s), if applicable (see paragraph 3.1.8. of this Regulation):  ....................................................................\\nFrequency bands [Hz]\\nMax. output power [W]\\nAntenna position at vehicle, specific conditions for installation and/or use\\n64. Vehicle equipped with 24 GHz short-range radar equipment: yes/no/optional. 1\\nThe applicant for type approval shall also supply, where appropriate:\\nAppendix 1 A list  with  make(s)  and  type(s)  of  all  electrical  and/or  electronic  components concerned by this Regulation (see paragraphs 2.9. and 2.10. of this Regulation) and not previously listed.\\nAppendix 2: Schematics  or  drawing  of  the  general  arrangement  of  electrical  and/or electronic components (concerned by this Regulation) and the general wiring harness arrangement.', 'score': 0.5675531566977604, 'subsections': [], 'rerank_score': 0.5675531566977604}]\n",
      "Query: Quelles sont les exigences de la réglementation R107 pour les bus PMR ?\n",
      "Analysis: {'needs_rag': True, 'query_type': 'regulation', 'confidence': 0.85, 'context_hint': 'Question identifiée comme relevant des réglementations automobiles', 'contains_url': False, 'urls': []}\n",
      "Answer: La réglementation R107 (ou UN R107) concerne principalement l'homologation des véhicules des catégories M2 et M3 (bus et autocars) en ce qui concerne leur construction générale. Voici les exigences clés pour les bus PMR (Personnes à Mobilité Réduite) selon cette réglementation :\n",
      "\n",
      "### 1. **Accessibilité et Aménagements PMR**\n",
      "- **Accès facilité** : Les bus doivent être équipés de dispositifs permettant l'accès des personnes à mobilité réduite, tels que des rampes, des ascenseurs ou des plateformes élévatrices.\n",
      "- **Espace dédié** : Un espace réservé aux fauteuils roulants doit être prévu, avec des systèmes de fixation sécurisés.\n",
      "- **Signalétique** : Des pictogrammes et des indications claires doivent être présents pour guider les PMR.\n",
      "\n",
      "### 2. **Exigences Techniques et Sécurité**\n",
      "- **Stabilité et Centre de Gravité** : Les bus doivent respecter des critères stricts de stabilité, notamment en ce qui concerne la position longitudinale et transversale du centre de gravité (voir diagrammes tech...\n",
      "Sources: 10\n",
      "Images: 7\n",
      "Tables: 2\n"
     ]
    }
   ],
   "source": [
    "try:\n",
    "    # Test 2: Question réglementaire (avec RAG)\n",
    "    print(\"\\n--- Test 2: Question réglementaire ---\")\n",
    "    query2 = \"Quelles sont les exigences de la réglementation R107 pour les bus PMR ?\"\n",
    "    result2 = orchestrator.process_query(\n",
    "        query2,\n",
    "        use_images=True,\n",
    "        use_tables=True,\n",
    "        top_k=15\n",
    "    )\n",
    "    \n",
    "    print(f\"Query: {query2}\")\n",
    "    print(f\"Analysis: {result2['analysis']}\")\n",
    "    print(f\"Answer: {result2['answer'][:1000]}...\")\n",
    "    print(f\"Sources: {len(result2['sources'])}\")\n",
    "    print(f\"Images: {len(result2['images'])}\")\n",
    "    print(f\"Tables: {len(result2['tables'])}\")\n",
    "    \n",
    "except Exception as e:\n",
    "    print(f\"❌ Erreur Test 2: {e}\")\n"
   ]
  },
  {
   "cell_type": "code",
   "execution_count": null,
   "metadata": {},
   "outputs": [],
   "source": [
    "try:\n",
    "    # Test 3: Question de suivi (avec contexte mémoire)\n",
    "    print(\"\\n--- Test 3: Question de suivi ---\")\n",
    "    query3 = \"Pouvez-vous me donner plus de détails sur ce sujet ?\"\n",
    "    result3 = orchestrator.process_query(\n",
    "        query3,\n",
    "        use_conversation_context=True,\n",
    "        top_k=2\n",
    "    )\n",
    "    \n",
    "    print(f\"Query: {query3}\")\n",
    "    print(f\"Analysis: {result3['analysis']}\")\n",
    "    print(f\"Answer: {result3['answer'][:200]}...\")\n",
    "    \n",
    "except Exception as e:\n",
    "    print(f\"❌ Erreur Test 3: {e}\")\n"
   ]
  },
  {
   "cell_type": "raw",
   "metadata": {
    "vscode": {
     "languageId": "raw"
    }
   },
   "source": [
    "## 8. Test de Performance et Comparaison\n"
   ]
  },
  {
   "cell_type": "code",
   "execution_count": null,
   "metadata": {},
   "outputs": [],
   "source": [
    "# Test de performance\n",
    "import time\n",
    "\n",
    "print(\"=== Test de Performance ===\")\n",
    "\n",
    "if 'orchestrator' in locals():\n",
    "    queries = [\n",
    "        \"Qu'est-ce qu'un PMR ?\",\n",
    "        \"Réglementation R107 bus\",\n",
    "        \"Exigences accessibilité\"\n",
    "    ]\n",
    "    \n",
    "    total_time = 0\n",
    "    \n",
    "    for i, query in enumerate(queries, 1):\n",
    "        start_time = time.time()\n",
    "        \n",
    "        try:\n",
    "            result = orchestrator.process_query(\n",
    "                query,\n",
    "                use_images=False,  # Désactiver pour la vitesse\n",
    "                use_tables=False,\n",
    "                top_k=2\n",
    "            )\n",
    "            \n",
    "            elapsed = time.time() - start_time\n",
    "            total_time += elapsed\n",
    "            \n",
    "            print(f\"Query {i}: {elapsed:.2f}s - {query}\")\n",
    "            print(f\"  → RAG: {'✅' if result['analysis']['needs_rag'] else '❌'}\")\n",
    "            print(f\"  → Sources: {len(result['sources'])}\")\n",
    "            \n",
    "        except Exception as e:\n",
    "            print(f\"❌ Erreur Query {i}: {e}\")\n",
    "    \n",
    "    print(f\"\\n⏱️ Temps total: {total_time:.2f}s\")\n",
    "    print(f\"⏱️ Temps moyen: {total_time/len(queries):.2f}s\")\n",
    "else:\n",
    "    print(\"❌ Orchestrateur non disponible pour les tests de performance\")\n"
   ]
  },
  {
   "cell_type": "raw",
   "metadata": {
    "vscode": {
     "languageId": "raw"
    }
   },
   "source": [
    "## 9. Résumé des Tests\n"
   ]
  },
  {
   "cell_type": "code",
   "execution_count": null,
   "metadata": {},
   "outputs": [],
   "source": [
    "# Résumé final\n",
    "print(\"=== Résumé des Tests ===\")\n",
    "print(\"\\n✅ Services testés:\")\n",
    "print(\"  • RetrievalService - Recherche multi-sources\")\n",
    "print(\"  • GenerationService - Génération LLM\")\n",
    "print(\"  • ValidationService - Filtrage des chunks\")\n",
    "print(\"  • MemoryService - Mémoire conversationnelle\")\n",
    "print(\"  • ContextBuilderService - Construction du contexte\")\n",
    "print(\"  • RerankerService - Réordonnancement (optionnel)\")\n",
    "print(\"  • ModularOrchestrator - Coordination\")\n",
    "\n",
    "print(\"\\n🎯 Avantages de l'architecture modulaire:\")\n",
    "print(\"  • Services isolés et testables\")\n",
    "print(\"  • Injection de dépendances\")\n",
    "print(\"  • Orchestrateur <200 lignes\")\n",
    "print(\"  • Facilité de maintenance\")\n",
    "\n",
    "print(\"\\n📋 Prochaines étapes:\")\n",
    "print(\"  • Installer dépendances reranker si besoin\")\n",
    "print(\"  • Ajuster les paramètres selon vos besoins\")\n",
    "print(\"  • Intégrer dans votre application\")\n",
    "print(\"  • Ajouter tests unitaires\")\n",
    "\n",
    "print(\"\\n🚀 Architecture modulaire opérationnelle !\")\n"
   ]
  }
 ],
 "metadata": {
  "kernelspec": {
   "display_name": "Python 3",
   "language": "python",
   "name": "python3"
  },
  "language_info": {
   "codemirror_mode": {
    "name": "ipython",
    "version": 3
   },
   "file_extension": ".py",
   "mimetype": "text/x-python",
   "name": "python",
   "nbconvert_exporter": "python",
   "pygments_lexer": "ipython3",
   "version": "3.13.2"
  }
 },
 "nbformat": 4,
 "nbformat_minor": 2
}
